{
 "cells": [
  {
   "cell_type": "markdown",
   "metadata": {
    "deletable": false,
    "editable": false,
    "nbgrader": {
     "cell_type": "markdown",
     "checksum": "e87f4be9b4e114b57b64caaaf0833df2",
     "grade": false,
     "grade_id": "cell-9621f59e18e5be2c",
     "locked": true,
     "schema_version": 3,
     "solution": false,
     "task": false
    }
   },
   "source": [
    "# Lab 01 - IIR Filtering\n"
   ]
  },
  {
   "cell_type": "code",
   "execution_count": 1,
   "metadata": {
    "deletable": false,
    "editable": false,
    "nbgrader": {
     "cell_type": "code",
     "checksum": "a45f75fb7f602768520f9f8acaaf3b39",
     "grade": false,
     "grade_id": "cell-a2a86d7eae0511b6",
     "locked": true,
     "schema_version": 3,
     "solution": false,
     "task": false
    }
   },
   "outputs": [
    {
     "name": "stdout",
     "output_type": "stream",
     "text": [
      "Requirement already satisfied: numpy in c:\\users\\nero\\anaconda3\\lib\\site-packages (1.19.2)\n",
      "Requirement already satisfied: scipy in c:\\users\\nero\\anaconda3\\lib\\site-packages (1.5.2)\n",
      "Note: you may need to restart the kernel to use updated packages.\n"
     ]
    },
    {
     "name": "stderr",
     "output_type": "stream",
     "text": [
      "ERROR: Could not find a version that satisfies the requirement pyfdax (from versions: none)\n",
      "ERROR: No matching distribution found for pyfdax\n"
     ]
    }
   ],
   "source": [
    "%pip install numpy scipy pyfdax"
   ]
  },
  {
   "cell_type": "code",
   "execution_count": 4,
   "metadata": {},
   "outputs": [
    {
     "name": "stdout",
     "output_type": "stream",
     "text": [
      "Requirement already satisfied: numpy in c:\\users\\nero\\anaconda3\\lib\\site-packages (1.19.2)\n",
      "Requirement already satisfied: scipy in c:\\users\\nero\\anaconda3\\lib\\site-packages (1.5.2)\n",
      "Requirement already satisfied: pyfda in c:\\users\\nero\\anaconda3\\lib\\site-packages (0.5.0)\n",
      "Requirement already satisfied: markdown in c:\\users\\nero\\anaconda3\\lib\\site-packages (from pyfda) (3.3.3)\n",
      "Requirement already satisfied: matplotlib!=3.1.0,<3.3,>=2.0 in c:\\users\\nero\\anaconda3\\lib\\site-packages (from pyfda) (3.2.2)\n",
      "Requirement already satisfied: mplcursors in c:\\users\\nero\\anaconda3\\lib\\site-packages (from pyfda) (0.4)\n",
      "Requirement already satisfied: numexpr in c:\\users\\nero\\anaconda3\\lib\\site-packages (from pyfda) (2.7.1)\n",
      "Requirement already satisfied: migen in c:\\users\\nero\\anaconda3\\lib\\site-packages (from pyfda) (0.9.2)\n",
      "Requirement already satisfied: docutils in c:\\users\\nero\\anaconda3\\lib\\site-packages (from pyfda) (0.16)\n",
      "Requirement already satisfied: cycler>=0.10 in c:\\users\\nero\\anaconda3\\lib\\site-packages (from matplotlib!=3.1.0,<3.3,>=2.0->pyfda) (0.10.0)\n",
      "Requirement already satisfied: kiwisolver>=1.0.1 in c:\\users\\nero\\anaconda3\\lib\\site-packages (from matplotlib!=3.1.0,<3.3,>=2.0->pyfda) (1.3.0)\n",
      "Requirement already satisfied: pyparsing!=2.0.4,!=2.1.2,!=2.1.6,>=2.0.1 in c:\\users\\nero\\anaconda3\\lib\\site-packages (from matplotlib!=3.1.0,<3.3,>=2.0->pyfda) (2.4.7)\n",
      "Requirement already satisfied: python-dateutil>=2.1 in c:\\users\\nero\\anaconda3\\lib\\site-packages (from matplotlib!=3.1.0,<3.3,>=2.0->pyfda) (2.8.1)\n",
      "Requirement already satisfied: colorama in c:\\users\\nero\\anaconda3\\lib\\site-packages (from migen->pyfda) (0.4.4)\n",
      "Requirement already satisfied: six in c:\\users\\nero\\anaconda3\\lib\\site-packages (from cycler>=0.10->matplotlib!=3.1.0,<3.3,>=2.0->pyfda) (1.15.0)\n",
      "Note: you may need to restart the kernel to use updated packages.\n"
     ]
    }
   ],
   "source": [
    "%pip install numpy scipy pyfda"
   ]
  },
  {
   "cell_type": "markdown",
   "metadata": {
    "deletable": false,
    "editable": false,
    "nbgrader": {
     "cell_type": "markdown",
     "checksum": "225d84766be73a8c17c3ac7ce562ce35",
     "grade": false,
     "grade_id": "cell-9d13381480b78be8",
     "locked": true,
     "schema_version": 3,
     "solution": false,
     "task": false
    }
   },
   "source": [
    "In this lab, you are going to have a deeper look on the IIR Filter. \n",
    "\n",
    "## Reading/Preperation\n",
    "Before the lab, make sure you revise the theoretical principles of IIR filtering. See lecture script, chapter 5.\n",
    "\n",
    "## Experiment 1: Quantisation effects\n",
    "Have a look on chapter `5.2.3 Quantisation effects` from the lecture script\n",
    "\n",
    "For this experiment, use the provided audio file `ps.wav` with a $1 kHz$ sine noise."
   ]
  },
  {
   "cell_type": "code",
   "execution_count": 5,
   "metadata": {
    "deletable": false,
    "editable": false,
    "nbgrader": {
     "cell_type": "code",
     "checksum": "c6dff18cdfec1d22ea13f3e54fb044f8",
     "grade": false,
     "grade_id": "cell-ac76f447479e6c64",
     "locked": true,
     "schema_version": 3,
     "solution": false,
     "task": false
    }
   },
   "outputs": [],
   "source": [
    "import numpy as np\n",
    "from scipy import signal\n",
    "from scipy.io import wavfile"
   ]
  },
  {
   "cell_type": "code",
   "execution_count": 6,
   "metadata": {
    "deletable": false,
    "editable": false,
    "nbgrader": {
     "cell_type": "code",
     "checksum": "9ed967dfe25a0e0d75e64002eaeb0f22",
     "grade": false,
     "grade_id": "cell-5fb5debc1d8322c3",
     "locked": true,
     "schema_version": 3,
     "solution": false,
     "task": false
    }
   },
   "outputs": [],
   "source": [
    "def wavfile_to_float32(data):\n",
    "    prev_data_bytes = data[0].nbytes\n",
    "\n",
    "    if data.dtype != np.float32:\n",
    "        data = data.astype(np.float32)\n",
    "        data = (data + 2**(prev_data_bytes*8/2 -1)) / 2**(prev_data_bytes*8/2)\n",
    "    return data"
   ]
  },
  {
   "cell_type": "markdown",
   "metadata": {
    "deletable": false,
    "editable": false,
    "nbgrader": {
     "cell_type": "markdown",
     "checksum": "7243c4798475620d283519c27e5c1506",
     "grade": false,
     "grade_id": "cell-438676c19815d0e5",
     "locked": true,
     "schema_version": 3,
     "solution": false,
     "task": false
    }
   },
   "source": [
    "### 1.1 Import the audio file."
   ]
  },
  {
   "cell_type": "code",
   "execution_count": 51,
   "metadata": {
    "deletable": false,
    "nbgrader": {
     "cell_type": "code",
     "checksum": "503bfc20e1d5460c12caf07dd39ff72e",
     "grade": true,
     "grade_id": "cell-9bca416c8bee9d6e",
     "locked": false,
     "points": 0,
     "schema_version": 3,
     "solution": true,
     "task": false
    }
   },
   "outputs": [],
   "source": [
    "# YOUR CODE HERE\n",
    "in_wav = wavfile.read(\"ps.wav\")\n",
    "audio = in_wav[1]"
   ]
  },
  {
   "cell_type": "markdown",
   "metadata": {
    "deletable": false,
    "editable": false,
    "nbgrader": {
     "cell_type": "markdown",
     "checksum": "d6fdaeb35ca9adb8d469dc2845a8f062",
     "grade": false,
     "grade_id": "cell-29260d0f41d84cf0",
     "locked": true,
     "schema_version": 3,
     "solution": false,
     "task": false
    }
   },
   "source": [
    "### 1.2 Design an IIR filter using the `pyfdax` tool\n",
    "Design a filter that blocks the noise (Note: `pyfdax` only support Single Section structure filters)\n",
    "\n",
    "### 1.3 Export the coefficients to an `npz` file\n",
    "`npz` is a file format to store numpy data.\n",
    "\n",
    "### 1.4 Load the coefficients from the `npz` file"
   ]
  },
  {
   "cell_type": "code",
   "execution_count": 52,
   "metadata": {
    "deletable": false,
    "nbgrader": {
     "cell_type": "code",
     "checksum": "d05a32e6dc1055f12401b6d05c9791bb",
     "grade": true,
     "grade_id": "cell-d899dc07ae8f66ba",
     "locked": false,
     "points": 0,
     "schema_version": 3,
     "solution": true,
     "task": false
    }
   },
   "outputs": [
    {
     "name": "stdout",
     "output_type": "stream",
     "text": [
      "[  1.          -5.62731288  13.41806918 -17.33901118  12.80369994\n",
      "  -5.12381682   0.86884692]\n",
      "[  0.93258021  -5.37202557  13.11272781 -17.34608975  13.11272781\n",
      "  -5.37202557   0.93258021]\n"
     ]
    }
   ],
   "source": [
    "# YOUR CODE HERE\n",
    "coeffs = np.load(\"bandstop.npy\")\n",
    "coeffs_a = coeffs[1,:].astype(float)\n",
    "coeffs_b = coeffs[0,:].astype(float)\n",
    "\n",
    "#print(coeffs)\n",
    "#print(coeffs_a)\n",
    "#print(coeffs_b)"
   ]
  },
  {
   "cell_type": "markdown",
   "metadata": {
    "deletable": false,
    "editable": false,
    "nbgrader": {
     "cell_type": "markdown",
     "checksum": "b988272243d5b0916e8d4f0f046cf597",
     "grade": false,
     "grade_id": "cell-bd0be7f12b35d59b",
     "locked": true,
     "schema_version": 3,
     "solution": false,
     "task": false
    }
   },
   "source": [
    "### 1.5 Filter the signal"
   ]
  },
  {
   "cell_type": "code",
   "execution_count": 55,
   "metadata": {
    "deletable": false,
    "nbgrader": {
     "cell_type": "code",
     "checksum": "fd7edfac148f072cfa23763dce91818f",
     "grade": true,
     "grade_id": "cell-135d8bf4788b5b6c",
     "locked": false,
     "points": 0,
     "schema_version": 3,
     "solution": true,
     "task": false
    }
   },
   "outputs": [],
   "source": [
    "# YOUR CODE HERE\n",
    "out_audio = signal.lfilter(coeffs_b, coeffs_a, audio)"
   ]
  },
  {
   "cell_type": "markdown",
   "metadata": {
    "deletable": false,
    "editable": false,
    "nbgrader": {
     "cell_type": "markdown",
     "checksum": "260d716ca59098eef884b5eda3206802",
     "grade": false,
     "grade_id": "cell-4f20615375dffc16",
     "locked": true,
     "schema_version": 3,
     "solution": false,
     "task": false
    }
   },
   "source": [
    "### 1.6 Write the output to a wavfile"
   ]
  },
  {
   "cell_type": "code",
   "execution_count": 57,
   "metadata": {
    "deletable": false,
    "nbgrader": {
     "cell_type": "code",
     "checksum": "552976b7e8c2431a6bd383d0f863b6fe",
     "grade": true,
     "grade_id": "cell-826483493428a2ca",
     "locked": false,
     "points": 0,
     "schema_version": 3,
     "solution": true,
     "task": false
    }
   },
   "outputs": [],
   "source": [
    "# YOUR CODE HERE\n",
    "wavfile.write(\"out.wav\", in_wav[0], out_audio.astype(np.int16))"
   ]
  },
  {
   "cell_type": "code",
   "execution_count": 68,
   "metadata": {},
   "outputs": [],
   "source": [
    "import matplotlib.pyplot as plt\n",
    "import numpy as np\n",
    "\n",
    "def pzmap(G, ax=None, marker_color = None):\n",
    "    \n",
    "    if marker_color:\n",
    "        marker_color = [marker_color, marker_color]\n",
    "    else:\n",
    "        marker_color = [\"r\", \"b\"]\n",
    "            \n",
    "    \n",
    "    if ax:\n",
    "        actual_imag_min, actual_imag_max = ax.get_ylim()\n",
    "        actual_real_min, actual_real_max = ax.get_xlim()\n",
    "    else:\n",
    "        _, ax = plt.subplots(figsize=(5, 5))\n",
    "    \n",
    "    if ax.lines == []:\n",
    "        # circle\n",
    "        theta = np.linspace(-np.pi, np.pi, 201)\n",
    "        ax.plot(np.sin(theta), np.cos(theta), color = 'k', linewidth=0.5)\n",
    "        ax.axhline(y=0, color='k', alpha=0.3)\n",
    "        ax.axvline(x=0, color='k', alpha=0.3) \n",
    "        actual_imag_min, actual_imag_max = -1.0, 1.0\n",
    "        actual_real_min, actual_real_max = -1.0, 1.0\n",
    "       \n",
    "    # poles\n",
    "    ax.plot(np.real(G.poles), np.imag(G.poles), 'X%s' % marker_color[0], label = 'Poles')\n",
    "\n",
    "    # zeros\n",
    "    ax.plot(np.real(G.zeros), np.imag(G.zeros), '.%s' % marker_color[1], label = 'Zeros')\n",
    "    \n",
    "    def make_one_long(a, b, c):\n",
    "        a = np.array(a)\n",
    "        gesamt = np.append(a, b)\n",
    "        return np.append(gesamt, c)\n",
    "\n",
    "    imag_min = np.min(make_one_long([actual_imag_min], np.imag(G.poles), np.imag(G.zeros))) * 1.05\n",
    "    imag_max = np.max(make_one_long([actual_imag_max], np.imag(G.poles), np.imag(G.zeros))) * 1.05\n",
    "    real_min = np.min(make_one_long([actual_real_min], np.real(G.poles), np.real(G.zeros))) * 1.05\n",
    "    real_max = np.max(make_one_long([actual_real_max], np.real(G.poles), np.real(G.zeros))) * 1.05\n",
    "    all_lim = np.max([np.abs(real_min), real_max, np.abs(imag_min), imag_max])\n",
    "    ax.set_xlim(-all_lim, all_lim)\n",
    "    ax.set_ylim(-all_lim, all_lim) \n",
    "        \n",
    "    ax.legend(loc=1)\n",
    "    ax.grid()\n",
    "    return ax"
   ]
  },
  {
   "cell_type": "markdown",
   "metadata": {
    "deletable": false,
    "editable": false,
    "nbgrader": {
     "cell_type": "markdown",
     "checksum": "38c458a4693240f1f9d0d04c74f209de",
     "grade": false,
     "grade_id": "cell-2d47f061aac65479",
     "locked": true,
     "schema_version": 3,
     "solution": false,
     "task": false
    }
   },
   "source": [
    "### 1.7 How does the precision of the coefficients (Numerator, Denominator) influence the IIR filter process? \n",
    "\n",
    "Try to visualize a comparisson."
   ]
  },
  {
   "cell_type": "code",
   "execution_count": 90,
   "metadata": {
    "deletable": false,
    "nbgrader": {
     "cell_type": "code",
     "checksum": "811ae5680af95c6e1a5768fb0366ab66",
     "grade": true,
     "grade_id": "cell-af945f1654bfc908",
     "locked": false,
     "points": 0,
     "schema_version": 3,
     "solution": true,
     "task": false
    }
   },
   "outputs": [
    {
     "data": {
      "image/png": "[encoded data removed]",
      "text/plain": [
       "<Figure size 360x360 with 1 Axes>"
      ]
     },
     "metadata": {
      "needs_background": "light"
     },
     "output_type": "display_data"
    },
    {
     "data": {
      "image/png": "[encoded data removed]",
      "text/plain": [
       "<Figure size 360x360 with 1 Axes>"
      ]
     },
     "metadata": {
      "needs_background": "light"
     },
     "output_type": "display_data"
    }
   ],
   "source": [
    "# YOUR CODE HERE\n",
    "\n",
    "samplerate = 22050\n",
    "length = audio.shape[0] / samplerate\n",
    "time = np.linspace(0., length, audio.shape[0])\n",
    "\n",
    "coeffs = np.load(\"bandstop.npy\")\n",
    "coeffs_a = coeffs[1,:].astype(float)\n",
    "coeffs_b = coeffs[0,:].astype(float)\n",
    "\n",
    "system = signal.TransferFunction(coeffs_a, coeffs_b)\n",
    "pzmap(system)\n",
    "\n",
    "coeffs_a = np.round(coeffs_a, 1)\n",
    "coeffs_b = np.round(coeffs_b, 1)\n",
    "\n",
    "system = signal.TransferFunction(coeffs_a, coeffs_b)\n",
    "pzmap(system)\n",
    "\n",
    "\n",
    "#plt.pzplot(time, audio, label=\"Left channel\")\n",
    "#plt.plot(time, audio[:, 1], label=\"Right channel\")\n",
    "\n",
    "plt.show()\n"
   ]
  },
  {
   "cell_type": "markdown",
   "metadata": {
    "deletable": false,
    "nbgrader": {
     "cell_type": "markdown",
     "checksum": "2d1a069b421d609683a2fd0cf820c71e",
     "grade": true,
     "grade_id": "cell-9ce2e4d6178e7d67",
     "locked": false,
     "points": 0,
     "schema_version": 3,
     "solution": true,
     "task": false
    }
   },
   "source": [
    "YOUR ANSWER HERE"
   ]
  },
  {
   "cell_type": "markdown",
   "metadata": {
    "deletable": false,
    "editable": false,
    "nbgrader": {
     "cell_type": "markdown",
     "checksum": "1ba9b9580b73835b76bb084e36d35b24",
     "grade": false,
     "grade_id": "cell-6085911751fd3615",
     "locked": true,
     "schema_version": 3,
     "solution": false,
     "task": false
    }
   },
   "source": [
    "### 1.8 How can those numerical instable calculations be reduced?\n"
   ]
  },
  {
   "cell_type": "markdown",
   "metadata": {
    "deletable": false,
    "nbgrader": {
     "cell_type": "markdown",
     "checksum": "50de2bd381c396032b4ae87ae2946367",
     "grade": true,
     "grade_id": "cell-3e21fabfaafffa92",
     "locked": false,
     "points": 0,
     "schema_version": 3,
     "solution": true,
     "task": false
    }
   },
   "source": [
    "Filter N < 2\n",
    "\n",
    "NED RUNDEN!  <---- ♥♥♥♥♥♥♥"
   ]
  },
  {
   "cell_type": "code",
   "execution_count": null,
   "metadata": {},
   "outputs": [],
   "source": []
  }
 ],
 "metadata": {
  "kernelspec": {
   "display_name": "Python 3",
   "language": "python",
   "name": "python3"
  },
  "language_info": {
   "codemirror_mode": {
    "name": "ipython",
    "version": 3
   },
   "file_extension": ".py",
   "mimetype": "text/x-python",
   "name": "python",
   "nbconvert_exporter": "python",
   "pygments_lexer": "ipython3",
   "version": "3.8.5"
  }
 },
 "nbformat": 4,
 "nbformat_minor": 4
}
